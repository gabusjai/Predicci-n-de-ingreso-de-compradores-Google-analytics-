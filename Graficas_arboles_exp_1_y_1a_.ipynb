{
  "nbformat": 4,
  "nbformat_minor": 0,
  "metadata": {
    "colab": {
      "name": "Graficas arboles exp 1 y 1a .ipynb",
      "provenance": [],
      "collapsed_sections": [],
      "machine_shape": "hm"
    },
    "kernelspec": {
      "name": "python3",
      "display_name": "Python 3"
    },
    "accelerator": "GPU"
  },
  "cells": [
    {
      "cell_type": "code",
      "metadata": {
        "colab": {
          "base_uri": "https://localhost:8080/"
        },
        "id": "T4lRkiyzfznC",
        "outputId": "806a1039-6668-45cc-d3ba-ea41378c3987"
      },
      "source": [
        "# Info on how to get your api key (kaggle.json) here: https://github.com/Kaggle/kaggle-api#api-credentials\n",
        "# Valeria Quiroz  - Gabriel Zapata\n",
        "%%time\n",
        "!pip install kaggle\n",
        "api_token = {\"username\":\"gabrielzapata\",\"key\":\"45d11139cb4e32995898eae373213b5f\"}\n",
        "import json\n",
        "import zipfile\n",
        "import os\n",
        "with open('/content/kaggle.json', 'w') as file:\n",
        "    json.dump(api_token, file)\n",
        "!mkdir /root/.kaggle      \n",
        "!cp /content/kaggle.json ~/.kaggle/kaggle.json\n",
        "!kaggle config set -n path -v/content\n",
        "!chmod 600 /root/.kaggle/kaggle.json\n",
        "!kaggle competitions download -c ga-customer-revenue-prediction\n",
        "if not os.path.exists(\"/content/competitions/ga-customer-revenue-prediction\"):\n",
        "    os.makedirs(\"/content/competitions/ga-customer-revenue-prediction\")\n",
        "os.chdir('/content/competitions/ga-customer-revenue-prediction')\n",
        "for file in os.listdir():\n",
        "    zip_ref = zipfile.ZipFile(file, 'r')\n",
        "    zip_ref.extractall()\n",
        "    zip_ref.close()"
      ],
      "execution_count": null,
      "outputs": [
        {
          "output_type": "stream",
          "text": [
            "Requirement already satisfied: kaggle in /usr/local/lib/python3.7/dist-packages (1.5.12)\n",
            "Requirement already satisfied: requests in /usr/local/lib/python3.7/dist-packages (from kaggle) (2.23.0)\n",
            "Requirement already satisfied: urllib3 in /usr/local/lib/python3.7/dist-packages (from kaggle) (1.24.3)\n",
            "Requirement already satisfied: six>=1.10 in /usr/local/lib/python3.7/dist-packages (from kaggle) (1.15.0)\n",
            "Requirement already satisfied: certifi in /usr/local/lib/python3.7/dist-packages (from kaggle) (2020.12.5)\n",
            "Requirement already satisfied: python-slugify in /usr/local/lib/python3.7/dist-packages (from kaggle) (5.0.2)\n",
            "Requirement already satisfied: tqdm in /usr/local/lib/python3.7/dist-packages (from kaggle) (4.41.1)\n",
            "Requirement already satisfied: python-dateutil in /usr/local/lib/python3.7/dist-packages (from kaggle) (2.8.1)\n",
            "Requirement already satisfied: idna<3,>=2.5 in /usr/local/lib/python3.7/dist-packages (from requests->kaggle) (2.10)\n",
            "Requirement already satisfied: chardet<4,>=3.0.2 in /usr/local/lib/python3.7/dist-packages (from requests->kaggle) (3.0.4)\n",
            "Requirement already satisfied: text-unidecode>=1.3 in /usr/local/lib/python3.7/dist-packages (from python-slugify->kaggle) (1.3)\n",
            "Warning: Your Kaggle API key is readable by other users on this system! To fix this, you can run 'chmod 600 /root/.kaggle/kaggle.json'\n",
            "- path is now set to: /content\n",
            "Warning: Looks like you're using an outdated API Version, please consider updating (server 1.5.12 / client 1.5.4)\n",
            "Downloading train_v2.csv.zip to /content/competitions/ga-customer-revenue-prediction\n",
            " 99% 1.10G/1.11G [00:09<00:00, 116MB/s]\n",
            "100% 1.11G/1.11G [00:09<00:00, 129MB/s]\n",
            "Downloading sample_submission.csv.zip to /content/competitions/ga-customer-revenue-prediction\n",
            "  0% 0.00/5.23M [00:00<?, ?B/s]\n",
            "100% 5.23M/5.23M [00:00<00:00, 86.1MB/s]\n",
            "Downloading train.csv.zip to /content/competitions/ga-customer-revenue-prediction\n",
            " 85% 52.0M/61.1M [00:00<00:00, 83.4MB/s]\n",
            "100% 61.1M/61.1M [00:00<00:00, 113MB/s] \n",
            "Downloading sample_submission_v2.csv.zip to /content/competitions/ga-customer-revenue-prediction\n",
            "  0% 0.00/2.55M [00:00<?, ?B/s]\n",
            "100% 2.55M/2.55M [00:00<00:00, 174MB/s]\n",
            "Downloading test.csv.zip to /content/competitions/ga-customer-revenue-prediction\n",
            " 77% 44.0M/56.8M [00:00<00:00, 74.1MB/s]\n",
            "100% 56.8M/56.8M [00:00<00:00, 116MB/s] \n",
            "Downloading test_v2.csv.zip to /content/competitions/ga-customer-revenue-prediction\n",
            " 96% 320M/333M [00:02<00:00, 147MB/s]\n",
            "100% 333M/333M [00:02<00:00, 120MB/s]\n",
            "CPU times: user 1min 52s, sys: 39.3 s, total: 2min 31s\n",
            "Wall time: 7min 38s\n"
          ],
          "name": "stdout"
        }
      ]
    },
    {
      "cell_type": "markdown",
      "metadata": {
        "id": "4xMba_UBhDlI"
      },
      "source": [
        "### **Librerias**"
      ]
    },
    {
      "cell_type": "code",
      "metadata": {
        "id": "UqDfZ40PhC2Z"
      },
      "source": [
        "import pandas as pd\n",
        "import numpy as np\n",
        "import random\n",
        "import matplotlib.pyplot as plt\n",
        "from pandas import json_normalize\n",
        "import seaborn as sns \n",
        "from sklearn import model_selection, preprocessing, metrics\n",
        "import lightgbm as lgb\n",
        "import plotly.graph_objs as go\n",
        "from plotly import subplots\n",
        "import plotly.offline as py\n",
        "from sklearn.model_selection import GridSearchCV\n",
        "from sklearn.ensemble import GradientBoostingRegressor, RandomForestRegressor\n",
        "import datetime\n",
        "from sklearn.model_selection import train_test_split, StratifiedShuffleSplit, StratifiedKFold, KFold, RepeatedKFold\n",
        "from sklearn.pipeline import Pipeline\n",
        "#from sklearn.metrics import mean_absolute_percentage_error"
      ],
      "execution_count": null,
      "outputs": []
    },
    {
      "cell_type": "markdown",
      "metadata": {
        "id": "WmJlltc1kI_6"
      },
      "source": [
        "### **Explicacion del codigo json sacado de Kaggle, para aplanar los datos**"
      ]
    },
    {
      "cell_type": "code",
      "metadata": {
        "id": "cP2WQQPPkHW6"
      },
      "source": [
        "def load_df(csv_path='/content/competitions/ga-customer-revenue-prediction/train.csv', nrows=None):\n",
        "    JSON_COLUMNS = ['device', 'geoNetwork', 'totals', 'trafficSource']\n",
        "    \n",
        "    df = pd.read_csv(csv_path, \n",
        "                     converters={column: json.loads for column in JSON_COLUMNS}, \n",
        "                     dtype={'fullVisitorId': 'str'}, # Important!!\n",
        "                     nrows=nrows)\n",
        "    \n",
        "    for column in JSON_COLUMNS:\n",
        "        column_as_df = json_normalize(df[column])\n",
        "        column_as_df.columns = [f\"{column}.{subcolumn}\" for subcolumn in column_as_df.columns]\n",
        "        df = df.drop(column, axis=1).merge(column_as_df, right_index=True, left_index=True)\n",
        "    print(f\"Loaded {os.path.basename(csv_path)}. Shape: {df.shape}\")\n",
        "    return df"
      ],
      "execution_count": null,
      "outputs": []
    },
    {
      "cell_type": "code",
      "metadata": {
        "id": "9rDoHgBykbIq",
        "colab": {
          "base_uri": "https://localhost:8080/"
        },
        "outputId": "d690f5e4-d477-4b2e-8d3a-17c2eb30f5a1"
      },
      "source": [
        "%%time\n",
        "train_df = load_df()\n",
        "#test_df = load_df('/content/competitions/ga-customer-revenue-prediction/test.csv')"
      ],
      "execution_count": null,
      "outputs": [
        {
          "output_type": "stream",
          "text": [
            "Loaded train.csv. Shape: (903653, 55)\n",
            "CPU times: user 2min 12s, sys: 11.3 s, total: 2min 23s\n",
            "Wall time: 2min 37s\n"
          ],
          "name": "stdout"
        }
      ]
    },
    {
      "cell_type": "code",
      "metadata": {
        "id": "4HBDjHPxPoJ-",
        "colab": {
          "base_uri": "https://localhost:8080/"
        },
        "outputId": "846998be-68fb-48b7-fe80-559b3ca63453"
      },
      "source": [
        "train_df = train_df.drop( ['sessionId'] + [\"trafficSource.campaignCode\"], axis=1)\n",
        "print(train_df.shape)"
      ],
      "execution_count": null,
      "outputs": [
        {
          "output_type": "stream",
          "text": [
            "(903653, 53)\n"
          ],
          "name": "stdout"
        }
      ]
    },
    {
      "cell_type": "markdown",
      "metadata": {
        "id": "D-HnPOzDks6A"
      },
      "source": [
        "### **Eliminemos columnas constantes e imputar valores cero a NAN**"
      ]
    },
    {
      "cell_type": "code",
      "metadata": {
        "id": "0gQ04qqtkf-y",
        "colab": {
          "base_uri": "https://localhost:8080/"
        },
        "outputId": "697682c6-7e19-44f2-ef75-b6e240f0fd83"
      },
      "source": [
        "print (\"Antes de eliminar columnas constantes - shape de train y test datasets: \", train_df.shape)\n",
        "train_df = train_df.loc[:, (train_df != train_df.iloc[0]).any()]\n",
        "print (\"Despues de eliminar columnas constantes - shape de train y test datasets: \", train_df.shape)"
      ],
      "execution_count": null,
      "outputs": [
        {
          "output_type": "stream",
          "text": [
            "Antes de eliminar columnas constantes - shape de train y test datasets:  (903653, 53)\n",
            "Despues de eliminar columnas constantes - shape de train y test datasets:  (903653, 34)\n"
          ],
          "name": "stdout"
        }
      ]
    },
    {
      "cell_type": "code",
      "metadata": {
        "id": "cto-b-etl4wK"
      },
      "source": [
        "# Replace NaN values throughout train dataset\n",
        "train_df.replace(to_replace=np.nan, value=0, inplace=True)"
      ],
      "execution_count": null,
      "outputs": []
    },
    {
      "cell_type": "markdown",
      "metadata": {
        "id": "fEnyLMx_mR3B"
      },
      "source": [
        "### **Conversion variable categórica a númerica**"
      ]
    },
    {
      "cell_type": "code",
      "metadata": {
        "id": "NY3Ld1XBmRHa",
        "colab": {
          "base_uri": "https://localhost:8080/"
        },
        "outputId": "dc3d1006-9312-41a2-87d0-9910f2e62781"
      },
      "source": [
        "# etiqueta codifica las variables categóricas y convierte las variables numéricas flotantes\n",
        "cat_cols = [\"channelGrouping\", \"device.browser\", \n",
        "            \"device.deviceCategory\", \"device.operatingSystem\", \"device.isMobile\",\n",
        "            \"geoNetwork.city\", \"geoNetwork.continent\", \n",
        "            \"geoNetwork.country\", \"geoNetwork.metro\",\n",
        "            \"geoNetwork.networkDomain\", \"geoNetwork.region\", \n",
        "            \"geoNetwork.subContinent\", \"trafficSource.adContent\", \n",
        "            \"trafficSource.adwordsClickInfo.adNetworkType\", \n",
        "            \"trafficSource.adwordsClickInfo.gclId\", \n",
        "            \"trafficSource.adwordsClickInfo.page\", \n",
        "            \"trafficSource.adwordsClickInfo.slot\", \"trafficSource.campaign\",\n",
        "            \"trafficSource.keyword\", \"trafficSource.medium\", \n",
        "            \"trafficSource.referralPath\", \"trafficSource.source\",\n",
        "            'trafficSource.adwordsClickInfo.isVideoAd', 'trafficSource.isTrueDirect']\n",
        "for col in cat_cols:\n",
        "    print(col)\n",
        "    lbl = preprocessing.LabelEncoder()\n",
        "    lbl.fit(list(train_df[col].values.astype('str')))\n",
        "    train_df[col] = lbl.transform(list(train_df[col].values.astype('str')))\n",
        "    \n",
        "\n",
        "\n",
        "num_cols = [\"totals.hits\", \"totals.pageviews\", \"visitNumber\", \"visitStartTime\", 'totals.bounces',  'totals.newVisits']    \n",
        "for col in num_cols:\n",
        "    train_df[col] = train_df[col].astype(float)\n",
        "   "
      ],
      "execution_count": null,
      "outputs": [
        {
          "output_type": "stream",
          "text": [
            "channelGrouping\n",
            "device.browser\n",
            "device.deviceCategory\n",
            "device.operatingSystem\n",
            "device.isMobile\n",
            "geoNetwork.city\n",
            "geoNetwork.continent\n",
            "geoNetwork.country\n",
            "geoNetwork.metro\n",
            "geoNetwork.networkDomain\n",
            "geoNetwork.region\n",
            "geoNetwork.subContinent\n",
            "trafficSource.adContent\n",
            "trafficSource.adwordsClickInfo.adNetworkType\n",
            "trafficSource.adwordsClickInfo.gclId\n",
            "trafficSource.adwordsClickInfo.page\n",
            "trafficSource.adwordsClickInfo.slot\n",
            "trafficSource.campaign\n",
            "trafficSource.keyword\n",
            "trafficSource.medium\n",
            "trafficSource.referralPath\n",
            "trafficSource.source\n",
            "trafficSource.adwordsClickInfo.isVideoAd\n",
            "trafficSource.isTrueDirect\n"
          ],
          "name": "stdout"
        }
      ]
    },
    {
      "cell_type": "code",
      "metadata": {
        "id": "QuIKpRuMS16o"
      },
      "source": [
        "train_df.to_csv('dataset.csv')"
      ],
      "execution_count": null,
      "outputs": []
    },
    {
      "cell_type": "code",
      "metadata": {
        "id": "Mlqi6XTZvLJv"
      },
      "source": [
        "train_df['date'] = train_df['date'].apply(lambda x: datetime.date(int(str(x)[:4]), int(str(x)[4:6]), int(str(x)[6:])))###Cambia el formato de la fecha"
      ],
      "execution_count": null,
      "outputs": []
    },
    {
      "cell_type": "code",
      "metadata": {
        "id": "X961Z32Kk8F3"
      },
      "source": [
        "Y = train_df[\"totals.transactionRevenue\"].astype('float')\n",
        "X=train_df.drop([\"totals.transactionRevenue\"],axis=1)##Eliminamos la salida de los datos de las caracteristicas\n"
      ],
      "execution_count": null,
      "outputs": []
    },
    {
      "cell_type": "code",
      "metadata": {
        "id": "TiZu62391XHe"
      },
      "source": [
        "##==================###Fold1######============================\n",
        "Fold1 = train_df[train_df['date']<=datetime.date(2016,11,1)]\n",
        "train1=Fold1[Fold1['date']<=datetime.date(2016,9,15)]\n",
        "Val1=Fold1[Fold1['date']>datetime.date(2016,9,15)]\n",
        "\n",
        "##==================###Fold2######============================\n",
        "Foldt = train_df[train_df['date']>datetime.date(2016,11,1)]\n",
        "Fold2 = Foldt[Foldt['date']<=datetime.date(2017,2,1)]\n",
        "train2=Fold2[Fold2['date']<=datetime.date(2016,12,15)]\n",
        "Val2=Fold2[Fold2['date']>datetime.date(2016,12,15)]\n",
        "\n",
        "##==================###Fold3######============================\n",
        "Foldt2 = train_df[train_df['date']>datetime.date(2017,2,1)]\n",
        "Fold3 = Foldt2[Foldt2['date']<=datetime.date(2017,5,1)]\n",
        "train3=Fold3[Fold3['date']<=datetime.date(2017,3,15)]\n",
        "Val3=Fold3[Fold3['date']>datetime.date(2017,3,15)]\n",
        "\n",
        "##===================#####All Train#######====================\n",
        "X_Train=train_df[train_df['date']<=datetime.date(2017,5,1)]\n",
        "Y_Train=np.log1p(X_Train[\"totals.transactionRevenue\"].astype('float'))\n",
        "\n",
        "##======================####Test#####==========================\n",
        "Test = train_df[train_df['date']>datetime.date(2017,5,1)]\n",
        "y_test= np.log1p(Test[\"totals.transactionRevenue\"].astype('float'))\n",
        "X_test=Test.drop([\"totals.transactionRevenue\"],axis=1)"
      ],
      "execution_count": null,
      "outputs": []
    },
    {
      "cell_type": "code",
      "metadata": {
        "id": "cCHsd7UcEaAP"
      },
      "source": [
        "dev_y1 = np.log1p(train1[\"totals.transactionRevenue\"].astype('float'))\n",
        "val_y1 = np.log1p(Val1[\"totals.transactionRevenue\"].astype('float'))\n",
        "dev_y2 = np.log1p(train2[\"totals.transactionRevenue\"].astype('float'))\n",
        "val_y2 = np.log1p(Val2[\"totals.transactionRevenue\"].astype('float'))\n",
        "dev_y3 = np.log1p(train3[\"totals.transactionRevenue\"].astype('float'))\n",
        "val_y3 = np.log1p(Val3[\"totals.transactionRevenue\"].astype('float'))"
      ],
      "execution_count": null,
      "outputs": []
    },
    {
      "cell_type": "code",
      "metadata": {
        "id": "zJ59sqB8JmYO"
      },
      "source": [
        "X_Train=X_Train.drop([\"totals.transactionRevenue\"],axis=1)\n",
        "train1=train1.drop([\"totals.transactionRevenue\"],axis=1)\n",
        "train2=train2.drop([\"totals.transactionRevenue\"],axis=1)\n",
        "train3=train3.drop([\"totals.transactionRevenue\"],axis=1)\n",
        "Val1=Val1.drop([\"totals.transactionRevenue\"],axis=1)\n",
        "Val2=Val2.drop([\"totals.transactionRevenue\"],axis=1)\n",
        "Val3=Val3.drop([\"totals.transactionRevenue\"],axis=1)"
      ],
      "execution_count": null,
      "outputs": []
    },
    {
      "cell_type": "code",
      "metadata": {
        "id": "JTvaAMjtUWU6"
      },
      "source": [
        "X_Train=X_Train.drop([\"date\"],axis=1)\n",
        "train1=train1.drop([\"date\"],axis=1)\n",
        "train2=train2.drop([\"date\"],axis=1)\n",
        "train3=train3.drop([\"date\"],axis=1)\n",
        "Val1=Val1.drop([\"date\"],axis=1)\n",
        "Val2=Val2.drop([\"date\"],axis=1)\n",
        "Val3=Val3.drop([\"date\"],axis=1)\n",
        "X_test=X_test.drop([\"date\"],axis=1)"
      ],
      "execution_count": null,
      "outputs": []
    },
    {
      "cell_type": "markdown",
      "metadata": {
        "id": "cKeY_ypknaf1"
      },
      "source": [
        "Graficas Experimento GBT"
      ]
    },
    {
      "cell_type": "code",
      "metadata": {
        "colab": {
          "base_uri": "https://localhost:8080/"
        },
        "id": "3fOHatjCgkdz",
        "outputId": "6c0435bd-8dd8-4cab-c57f-0f6823698b92"
      },
      "source": [
        "from sklearn import tree\n",
        "\n",
        "BestModelMAE1= GradientBoostingRegressor(n_estimators=80,max_depth =3)##MAE\n",
        "BestModelMAE1.fit(X_Train,Y_Train)"
      ],
      "execution_count": null,
      "outputs": [
        {
          "output_type": "execute_result",
          "data": {
            "text/plain": [
              "GradientBoostingRegressor(alpha=0.9, ccp_alpha=0.0, criterion='friedman_mse',\n",
              "                          init=None, learning_rate=0.1, loss='ls', max_depth=3,\n",
              "                          max_features=None, max_leaf_nodes=None,\n",
              "                          min_impurity_decrease=0.0, min_impurity_split=None,\n",
              "                          min_samples_leaf=1, min_samples_split=2,\n",
              "                          min_weight_fraction_leaf=0.0, n_estimators=80,\n",
              "                          n_iter_no_change=None, presort='deprecated',\n",
              "                          random_state=None, subsample=1.0, tol=0.0001,\n",
              "                          validation_fraction=0.1, verbose=0, warm_start=False)"
            ]
          },
          "metadata": {
            "tags": []
          },
          "execution_count": 16
        }
      ]
    },
    {
      "cell_type": "code",
      "metadata": {
        "colab": {
          "base_uri": "https://localhost:8080/",
          "height": 441
        },
        "id": "tuKUKkyDkpJI",
        "outputId": "d55fe8ff-41f4-466e-8aa0-c5dbfe854395"
      },
      "source": [
        "test_score = np.zeros(80)\n",
        "for i, y_pred in enumerate(BestModelMAE1.staged_predict(X_test)):\n",
        "    test_score[i] = BestModelMAE1.loss_(y_test, y_pred)\n",
        "\n",
        "fig = plt.figure(figsize=(6, 6))\n",
        "plt.subplot(1, 1, 1)\n",
        "plt.title('Deviance MAE')\n",
        "plt.plot(np.arange(80) + 1, BestModelMAE1.train_score_, 'b-',\n",
        "         label='Train')\n",
        "plt.plot(np.arange(80) + 1, test_score, 'r-',\n",
        "         label='Test')\n",
        "plt.legend(loc='upper right')\n",
        "plt.xlabel('Boosting Iterations')\n",
        "plt.ylabel('Deviance')\n",
        "fig.tight_layout()\n",
        "plt.grid()\n",
        "plt.show()"
      ],
      "execution_count": null,
      "outputs": [
        {
          "output_type": "display_data",
          "data": {
            "image/png": "[encoded data removed]",
            "text/plain": [
              "<Figure size 432x432 with 1 Axes>"
            ]
          },
          "metadata": {
            "tags": [],
            "needs_background": "light"
          }
        }
      ]
    },
    {
      "cell_type": "code",
      "metadata": {
        "colab": {
          "base_uri": "https://localhost:8080/"
        },
        "id": "v3ErgGz0luy5",
        "outputId": "78bac3b8-fd9f-4e17-ff18-f5d1ea5bb693"
      },
      "source": [
        "BestModelMSE1= GradientBoostingRegressor(n_estimators=90,max_depth =3)\n",
        "BestModelMSE1.fit(X_Train,Y_Train)"
      ],
      "execution_count": null,
      "outputs": [
        {
          "output_type": "execute_result",
          "data": {
            "text/plain": [
              "GradientBoostingRegressor(alpha=0.9, ccp_alpha=0.0, criterion='friedman_mse',\n",
              "                          init=None, learning_rate=0.1, loss='ls', max_depth=3,\n",
              "                          max_features=None, max_leaf_nodes=None,\n",
              "                          min_impurity_decrease=0.0, min_impurity_split=None,\n",
              "                          min_samples_leaf=1, min_samples_split=2,\n",
              "                          min_weight_fraction_leaf=0.0, n_estimators=90,\n",
              "                          n_iter_no_change=None, presort='deprecated',\n",
              "                          random_state=None, subsample=1.0, tol=0.0001,\n",
              "                          validation_fraction=0.1, verbose=0, warm_start=False)"
            ]
          },
          "metadata": {
            "tags": []
          },
          "execution_count": 18
        }
      ]
    },
    {
      "cell_type": "code",
      "metadata": {
        "colab": {
          "base_uri": "https://localhost:8080/",
          "height": 441
        },
        "id": "eUpjXjntmotf",
        "outputId": "0b711256-a0ab-48fa-8f0d-a59c53adaa93"
      },
      "source": [
        "test_score = np.zeros(90)\n",
        "for i, y_pred in enumerate(BestModelMSE1.staged_predict(X_test)):\n",
        "    test_score[i] = BestModelMSE1.loss_(y_test, y_pred)\n",
        "\n",
        "fig = plt.figure(figsize=(6, 6))\n",
        "plt.subplot(1, 1, 1)\n",
        "plt.title('Deviance RMSE')\n",
        "plt.plot(np.arange(90) + 1, BestModelMSE1.train_score_, 'b-',\n",
        "         label='Train')\n",
        "plt.plot(np.arange(90) + 1, test_score, 'r-',\n",
        "         label='Test')\n",
        "plt.legend(loc='upper right')\n",
        "plt.xlabel('Boosting Iterations')\n",
        "plt.ylabel('Deviance')\n",
        "fig.tight_layout()\n",
        "plt.grid()\n",
        "plt.show()"
      ],
      "execution_count": null,
      "outputs": [
        {
          "output_type": "display_data",
          "data": {
            "image/png": "[encoded data removed]",
            "text/plain": [
              "<Figure size 432x432 with 1 Axes>"
            ]
          },
          "metadata": {
            "tags": [],
            "needs_background": "light"
          }
        }
      ]
    },
    {
      "cell_type": "code",
      "metadata": {
        "colab": {
          "base_uri": "https://localhost:8080/"
        },
        "id": "UOusaSa8_BLD",
        "outputId": "45eb542e-8d42-41c7-e852-9a894052073a"
      },
      "source": [
        "test_score = np.zeros(90)\n",
        "for i, y_pred in enumerate(BestModelMSE1.staged_predict(X_test)):\n",
        "    test_score[i] = BestModelMSE1.loss_(y_test, y_pred)\n",
        "print(test_score)"
      ],
      "execution_count": null,
      "outputs": [
        {
          "output_type": "stream",
          "text": [
            "[4.55089225 4.37852554 4.2331226  4.10894949 4.00640254 3.92015514\n",
            " 3.84829411 3.77976633 3.71609268 3.66844473 3.63009667 3.5989014\n",
            " 3.57382344 3.55087345 3.52765273 3.50712848 3.49076039 3.46996655\n",
            " 3.45651445 3.44318372 3.43050003 3.42032284 3.41616095 3.40356273\n",
            " 3.40097513 3.39127863 3.38315387 3.38099778 3.3672253  3.36622708\n",
            " 3.35609968 3.34852504 3.33174972 3.31664111 3.31579098 3.30799771\n",
            " 3.29995156 3.29462297 3.29484708 3.2863859  3.27911076 3.27875334\n",
            " 3.27895776 3.27445002 3.26676905 3.26692407 3.23724296 3.23087844\n",
            " 3.22488565 3.22526855 3.22123655 3.2180331  3.21648574 3.21054521\n",
            " 3.2105455  3.20997864 3.20896651 3.19427535 3.1900952  3.18722308\n",
            " 3.18548225 3.18448048 3.18034238 3.17992622 3.18009076 3.18009124\n",
            " 3.17758951 3.17758944 3.17425237 3.17227984 3.17157824 3.16530661\n",
            " 3.16407118 3.16367841 3.16253695 3.16256152 3.16256134 3.16026957\n",
            " 3.15994587 3.15737593 3.15427391 3.16335189 3.16218091 3.16194971\n",
            " 3.16155472 3.16045733 3.16029691 3.16029654 3.15819328 3.15803389]\n"
          ],
          "name": "stdout"
        }
      ]
    },
    {
      "cell_type": "code",
      "metadata": {
        "colab": {
          "base_uri": "https://localhost:8080/"
        },
        "id": "xadroP3qBYrq",
        "outputId": "c3db5e51-49d5-48fe-aa7c-df27cd55780f"
      },
      "source": [
        "enumerate(BestModelMSE1.staged_predict(X_test))"
      ],
      "execution_count": null,
      "outputs": [
        {
          "output_type": "execute_result",
          "data": {
            "text/plain": [
              "<enumerate at 0x7fc32390baa0>"
            ]
          },
          "metadata": {
            "tags": []
          },
          "execution_count": 21
        }
      ]
    },
    {
      "cell_type": "markdown",
      "metadata": {
        "id": "Op2ZuHd7nhrO"
      },
      "source": [
        "Graficas Experimento RF"
      ]
    },
    {
      "cell_type": "code",
      "metadata": {
        "colab": {
          "base_uri": "https://localhost:8080/"
        },
        "id": "zTICD4g-n7wf",
        "outputId": "933bd156-f106-4aae-c8d9-1ab6161473f4"
      },
      "source": [
        "BestModelMAE1RF= RandomForestRegressor(n_estimators=20,max_depth =3,oob_score=True)\n",
        "BestModelMAE1RF.fit(X_Train,Y_Train)"
      ],
      "execution_count": null,
      "outputs": [
        {
          "output_type": "stream",
          "text": [
            "/usr/local/lib/python3.7/dist-packages/sklearn/ensemble/_forest.py:815: UserWarning:\n",
            "\n",
            "Some inputs do not have OOB scores. This probably means too few trees were used to compute any reliable oob estimates.\n",
            "\n"
          ],
          "name": "stderr"
        },
        {
          "output_type": "execute_result",
          "data": {
            "text/plain": [
              "RandomForestRegressor(bootstrap=True, ccp_alpha=0.0, criterion='mse',\n",
              "                      max_depth=3, max_features='auto', max_leaf_nodes=None,\n",
              "                      max_samples=None, min_impurity_decrease=0.0,\n",
              "                      min_impurity_split=None, min_samples_leaf=1,\n",
              "                      min_samples_split=2, min_weight_fraction_leaf=0.0,\n",
              "                      n_estimators=20, n_jobs=None, oob_score=True,\n",
              "                      random_state=None, verbose=0, warm_start=False)"
            ]
          },
          "metadata": {
            "tags": []
          },
          "execution_count": 22
        }
      ]
    },
    {
      "cell_type": "code",
      "metadata": {
        "colab": {
          "base_uri": "https://localhost:8080/"
        },
        "id": "Ih7cb6xQNf8Q",
        "outputId": "633d9ccf-acd4-48b4-b640-466b82974a1d"
      },
      "source": [
        "BestModelMAE1RF.oob_score_"
      ],
      "execution_count": null,
      "outputs": [
        {
          "output_type": "execute_result",
          "data": {
            "text/plain": [
              "0.24360464325000541"
            ]
          },
          "metadata": {
            "tags": []
          },
          "execution_count": 23
        }
      ]
    }
  ]
}